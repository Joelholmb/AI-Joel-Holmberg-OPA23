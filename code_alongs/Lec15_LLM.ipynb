{
 "cells": [
  {
   "cell_type": "code",
   "execution_count": 12,
   "metadata": {},
   "outputs": [],
   "source": [
    "import json\n",
    "import requests\n",
    "from dotenv import load_dotenv\n",
    "from pathlib import Path\n",
    "import os\n",
    "\n",
    "# in file .env write a line \n",
    "# EDEN_API=...\n",
    "\n",
    "load_dotenv(Path()/\".env\")\n",
    "api_key = os.getenv(\"EDEN_API\")\n",
    "\n",
    "# print to check that it works to access the API key, but\n",
    "# never commit a printed API key\n",
    "# print(api_key)"
   ]
  },
  {
   "cell_type": "code",
   "execution_count": 13,
   "metadata": {},
   "outputs": [
    {
     "data": {
      "text/plain": [
       "{'detail': 'Too many requests, upgrade your plan if you need a higher rate limit. Expected available in 19 seconds.'}"
      ]
     },
     "execution_count": 13,
     "metadata": {},
     "output_type": "execute_result"
    }
   ],
   "source": [
    "headers = {\"Authorization\": f\"Bearer {api_key}\"}\n",
    "\n",
    "url = \"https://api.edenai.run/v2/text/chat\"\n",
    "payload = {\n",
    "    \"providers\": \"openai\",\n",
    "    \"model\": \"gpt-3.5-turbo\",\n",
    "    \"text\": \"Hello i need your help ! \",\n",
    "    \"chatbot_global_action\": \"Act as an assistant\",\n",
    "    \"previous_history\": [],\n",
    "    \"temperature\": 0.0,\n",
    "    \"max_tokens\": 150,\n",
    "    \"fallback_providers\": \"perplexityai\"\n",
    "}\n",
    "\n",
    "response = requests.post(url, json=payload, headers=headers)\n",
    "\n",
    "result = json.loads(response.text)\n",
    "result"
   ]
  },
  {
   "cell_type": "code",
   "execution_count": 18,
   "metadata": {},
   "outputs": [
    {
     "data": {
      "text/plain": [
       "'Visste du att programmerare inte skojar i binära system? Antingen skrattar de eller så gör de det inte!'"
      ]
     },
     "execution_count": 18,
     "metadata": {},
     "output_type": "execute_result"
    }
   ],
   "source": [
    "def chat(\n",
    "    prompt,\n",
    "    max_tokens=300,\n",
    "    provider=\"openai\",\n",
    "    model=\"gpt-3.5-turbo-0125\",\n",
    "    temperature=0.5,\n",
    "):\n",
    "    headers = {\"Authorization\": f\"Bearer {api_key}\"}\n",
    "\n",
    "    url = \"https://api.edenai.run/v2/text/chat\"\n",
    "    payload = {\n",
    "        \"providers\": provider,\n",
    "        \"model\": model,\n",
    "        \"text\": prompt,\n",
    "        \"chatbot_global_action\": \"Act as an assistant\",  # try change this\n",
    "        \"previous_history\": [],  # to continue chat, input previous answers and prompts here\n",
    "        \"temperature\": temperature,  # experiment what happens with different temperatures\n",
    "        \"max_tokens\": max_tokens,  # experiment with this, balance cost with results\n",
    "        \"fallback_providers\": \"perplexityai\",\n",
    "    }\n",
    "\n",
    "    response = requests.post(url, json=payload, headers=headers)\n",
    "\n",
    "    result = json.loads(response.text)\n",
    "    return result[\"openai\"][\"generated_text\"]\n",
    "\n",
    "\n",
    "chat(\"berätta ett nördigt skämt om programmerare\")"
   ]
  },
  {
   "cell_type": "code",
   "execution_count": 19,
   "metadata": {},
   "outputs": [
    {
     "data": {
      "text/plain": [
       "WindowsPath('c:/Document/AI_Projekt/AI-Joel-Holmberg-OPA23/data')"
      ]
     },
     "execution_count": 19,
     "metadata": {},
     "output_type": "execute_result"
    }
   ],
   "source": [
    "data_path = Path().absolute().parent / \"data\"\n",
    "data_path"
   ]
  },
  {
   "cell_type": "code",
   "execution_count": 20,
   "metadata": {},
   "outputs": [
    {
     "name": "stdout",
     "output_type": "stream",
     "text": [
      "Vill du vara med och skapa framtidens system och applikationer med AI? Då är yrkesrollen som mjukvaruutvecklare med AI kompetens och utbildningen Objektorienterad programmering med AI-kompetens rätt för dig. Som mjukvaruutvecklare skapar och skriver du program som skall utföra specifika uppgifter. Efter utbildningen kan du jobba som t ex mjukvaruutvecklare inom C#, Python och med AI-applikationer. Kort om utbildningen Göteborg\n",
      " 2024-05-19  2024-08-26  Mars/April – boka din plats här!\n",
      " Programutveckling har en betydande inverkan på teknologins framsteg, och i dagens digitala era är behovet av specialiserade utvecklare större än någonsin. Som mjukvaruutvecklare med AI-kompetens blir du en nyckelspelare i teknikens framkant, där kreativ problemlösning och passion för innovation sätter tonen. för morgondagens digitala värld. Genom att förvärva kunskaper inom objektorienterad programmering och tillämpa dessa färdigheter inom området för artificiell intelligens (AI) är mjukvaruutvecklare eftertraktade inom den dynamiska och snabbt växande teknologisektorn. Det ökande behovet av välutbildade mjukvaruutvecklare och den snabba framstegen inom artificiell intelligens skapar en gynnsam marknad för dig som vill arbeta som mjukvaruutvecklare. Med vårt omfattande nätverk av samarbetspartners ger vi dig inte bara kunskaper och färdigheter utan också en direkt väg in i arbetslivet genom flera veckors praktik. Utbildningen Objektorienterad Programmering med AI-kompetens är utvecklad i nära samarbete med ledande företag och experter inom branschen för att matcha specifika behov av kompetens inom programutveckling och artificiell intelligens. Den fokuserar primärt på objektorienterad programmering med huvudinriktning på C# men under utbildningen kommer du också att få insikter i andra relevanta programmeringsspråk. En mjukvaruutvecklare skapar och skriver programkod för att instruera datorer och andra digitala enheter att utföra specifika uppgifter. En programmerare måste vara bekant med olika programmeringsspråk, såsom Python, C++, JavaScript, och andra, beroende på det specifika användningsområdet. I rollen arbetar du även med att genomföra tester för att säkerställa att koden fungerar korrekt och uppfyller kraven. Ytterligare en arbetsuppgift är att skriva och underhålla dokumentation för kod och system för att underlätta för andra att förstå och underhålla koden. Programmerare arbetar ofta i team och måste kunna samarbeta med andra utvecklare, designers, och andra intressenter för att säkerställa att projektet når sina mål. En skicklig mjukvaruutvecklare sträcker sig bortom att bara skriva kod. Med en inriktning på objektorienterad programmering och AI-kompetens blir du mer än bara en tekniker. Genom att strukturera din kod som ”objekt” – enheter som innehåller både data och funktioner – skapar du inte bara program, utan innovativa lösningar. Med målsättningen att du som studerande ska vara väl rustad för kommande arbetsliv och uppleva din studietid som intressant, rolig och inspirerande, arbetar vi utifrån en gemensam pedagogisk plattform och format. Lärandet sker såväl på skolan som online och genom praktik (LIA). Detta är en schemalagd heltidsutbildning med undervisning 2-3 dagar per vecka. Övrig tid arbetar du självständigt eller i grupp. Under lärande i arbete, LiA, följer du de arbetstider som gäller på företaget. Antalet schemalagda dagar kan variera något mellan kurserna. Klicka på länken så tas du direkt till den information som du söker! Att söka en YH-utbildning är verkligen inte svårt. Det du ska tänka på är att lämna in din ansökan i tid, även om den inte är komplett. Det finns tid att skicka in dina bilagor även efter sista ansökningsdag. Om du inte är behörig, har du tid på dig att bli det. Om du söker till våra IT-utbildningar och har all behörighet som efterfrågas men saknar kunskaper i programmering 1, kan du få gå en avgiftsfri förberedande kurs på distans under 4.v under våren. Du får mer info när du har skickat in din ansökan. Ansökan görs i yh-antagning.se. När du skickat in dina ansökningshandlingar guidar vi dig vidare genom processen. Klicka på länken för att komma till yh-antagning.se, där du gör din ansökan Programmering 1:\n",
      "Om du saknar betyg i Programmering 1 finns det två alternativ tillgängliga för dig. Du kan antingen genomföra ett online-behörighetstest eller delta i en behörighetsförberedande onlinekurs. Kursen sträcker sig över fyra veckor, där du självständigt arbetar med förinspelade lektioner och övningar. Avslutningsvis genomförs en tentamen. Både testet och kursen är kostnadsfria, och kursen är även berättigad till CSN-stöd. När du skickar in din ansökan kommer du att få återkoppling från oss och ytterligare information om hur du kan anmäla dig till antingen testet eller kursen via YH-antagning. Matematik 2/B:\n",
      "Om du inte har betyg i Matematik 2/B kan vi stödja dig i att uppnå behörigheten genom att genomföra ett online-behörighetstest. När du skickar in din ansökan kommer du att få återkoppling från oss via YH-antagning, där får du inloggningsuppgifter och ytterligare information om hur du gör behörighetstestet. C#-utvecklare: \n",
      "I rollen som C#-utvecklare är du experten som använder C#-programmeringsspråket för att bygga mjukvarusystem. Du arbetar med allt från att skriva koden till att testa och optimera program, vilket kräver skicklighet och noggrannhet. Genom att förstå affärsbehov och översätta dem till fungerande lösningar blir du en viktig arkitekt bakom innovativa digitala produkter och tjänster. Python-utvecklare: \n",
      "Som Python-utvecklare specialiserar du dig på att använda Python-språket för att skapa lösningar inom området för Artificiell Intelligens. Ditt arbete innebär att inte bara skriva kod utan också att utveckla och implementera AI-strategier. Genom att kombinera programmeringskunskaper med en förståelse för maskininlärning blir du en nyckelperson i skapandet av framtidens intelligenta system. Programmerare: \n",
      "I rollen som Programmerare är du den kreativa hjärnan som formar och underhåller kod för olika applikationer. Du kan arbeta över olika språk och projekt, och din uppgift sträcker sig från att skapa nya funktioner till att lösa tekniska utmaningar. Genom att vara en flexibel och problemlösande expert blir du en oumbärlig del av den digitala utvecklingen.  Kursen fokuserar på agil projektmetodik med inriktning på Scrum och Kanban. Den täcker systemutvecklingsprojekt, projektstrukturer, och ger grundläggande kunskaper om agila termer. Målet är att utveckla färdigheter som krävs för arbete med agila boards, agera som Scrum master och använda agila IT-verktyg. Studenterna förväntas även uppnå kompetenser för självständig förklaring av agila ramverk och förståelse av projektledningssammanhang i arbetslivet Kursen lägger grunden för att lösa programmeringsproblem i Python med fokus på både funktionell och objektorienterad kod. Den inkluderar användning av Pandas för databehandling och olika verktyg för datavisualisering. Målet är att kunna skapa lättläslig kod och använda Python i datadriven beslutsfattning. Kursen behandlar grundläggande teoretiska och praktiska grunder för maskininlärning. Den fokuserar på tillämpningar av maskininlärning för att lösa verkliga problem, inklusive utveckling av maskininlärningsmodeller, datarensning och skapande av dashboards för ML-tillämpning. Kursen fokuserar på modellering, konstruktion och användning av relationsdatabaser. Den inkluderar SQL-metoder, begrepp inom datastrukturer, planering och modellering av databaser samt verktyg för databasutveckling. Målet är att kunna skapa och använda relationsdatabaser samt ställa SQL-frågor. Kursen ger grundläggande förståelse för programmering och objektorientering, inklusive programmerarens yrkesroll, grundläggande programmering och principer för objektorienterad programmering. Den fokuserar på att ge kunskap om grunderna i objektorienterad programmering. Under kursen kopplas teoretiska kunskaper till arbetsplatskontext. Den omfattar systemutveckling/AI-relaterade arbetsuppgifter, utvecklingsarbetets organisation och verktyg, metoder och utvecklingsmiljöer. Målet är att kunna använda utrustning och verktyg på arbetsplatsen och självständigt delta i utvecklingsprojekt. Kursen fördjupar och utvecklar kunskaper från tidigare kurser inom systemutveckling/AI. Den innefattar systemutvecklingsprojekt, arbetsmoment och självständig användning av utrustning och metoder. Målet är att kunna konstruera program, planera och utföra felsökning, samt arbeta enligt agila projektmetoder. Denna kurs fokuserar på att ge en grundläggande förståelse för objektorienterad programmering, inklusive koncept som inkapsling och arv. Studenterna utvecklar praktiska färdigheter såsom användning av konsolverktyg och versionshantering. Målet är att efter kursen kunna självständigt konstruera och implementera enkla program och hantera grundläggande programkod. Den avancerade kursen fokuserar på att utveckla avancerade webbbackend-system med användning av återanvändbara programkomponenter och ORM för databaskommunikation. Kursen täcker även utveckling av webbfrontend med HTML, CSS och JavaScript, samt viktiga områden som testdriven utveckling, säkerhet och Continuous Integration. Kursen är idealisk för dem som vill fördjupa sina kunskaper och färdigheter för att framgångsrikt arbeta inom större projekt. Examensarbetet syftar till självständig fördjupning inom systemutveckling. Det inkluderar presentationsteknik, projektledning och förmågan att analysera, planera, genomföra och redovisa ett eget projekt. Målet är att visa fördjupad kunskap inom det valda området och förmåga att presentera arbete skriftligt och muntligt. Genom din praktikperiod (14 v)(20 v) ute på företag får du möjlighet att skapa goda relationer och få värdefull praktisk erfarenhet. NBI/Handelsakademin kan tipsa om LiA-företag, men du tar själv kontakt med företaget och säljer in dig. Du kan göra din LiA på vilken ort du vill, även utomlands, så länge uppgifterna är i linje med kursplanen och det finns en engagerad handledare som vet vad det innebär. Din utbildningsledare kommer att ha kontakt med handledaren i företaget och gör vanligtvis ett besök på ditt LiA-företag. Under lärande i arbete (LIA) följer du de arbetstider som gäller på praktikföretaget. Stjärnstoftstudios, Axis, Edument, FOI, Quicksearch, Consid, Ensolution, Metabytes, Wordline, Entergate, Nexer Group, Sogeti, Helo, Omegapoint, Sigma, Extrapreneur ,ZoCom, On-Iq Solution, Semcon, Consid, Axis m.fl. YH-utbildningar matchas mot arbetslivets behov och innebär att deras innehåll och inriktning utvecklas och förändras. Nya utbildningar kan starta och andra försvinna allt eftersom kompetensbehovet förändras. För dig som studerande innebär det att din yrkeskunskap är aktuell och efterfrågad i arbetslivet när du är klar med din utbildning. Vår utbildning är CSN-berättigad och kvalificerar också för omställningsstudiestöd, vilket ger dig möjlighet att få ekonomiskt stöd under din studieperiod. För ytterligare information om omställningsstudiestödet och att söka CSN, klicka på de separata länkarna nedan. Varje länk leder dig till en sida där du kan läsa mer om hur du kan få stöd för din nya framtid  magdalena.vidoevska@nbi-handelsakademin.se  +46 31-704 67 16\n",
      "sandra.kellander@nbi-handelsakademin.se sandra.kellander@nbi-handelsakademin.se  +46 31-704 67 19\n",
      "magdalena.fagerlind@nbi-handelsakademin.se magdalena.fagerlind@nbi-handelsakademin.se Du kan alltid maila oss på hej@nbi-handelsakademin.se så hjälper vi dig vidare! hej@nbi-handelsakademin.se hej@nbi-handelsakademin.se “Som regel är AI inte att sitta och programmera robotarna från Iron Man, dvs robotar som drar slutsatser, lär sig och självkorrigerar. Det är i verkligheten att hantera stora mängder data och att ta fram och använda algoritmer för att datorn ska kunna ”dra slutsatser” av den data du samlat in.”  “Du skaffar dig ett mindset – hur du kan prata med maskiner med hjälp av kod. Du får en bred förståelse för AI, en bredd inom programmeringstänk och du lär dig lösa svåra problem genom programmering.”  “Det bästa är att man får med sig hela kedjan: frontend, databaser backend kod, och så kurserna inom AI.”  Utöver gymnasieexamen, finns det finns det krav på så kallade särskilda förkunskaper. Det brukar handla om att du ska ha godkända betyg från vissa specifika kurser från gymnasiet eller att du ska ha viss arbetslivserfarenhet. I denna video går vi igenom vad som är viktigt inför din ansökan Vill du söka till en av våra IT-utbildningar men har inte läst programmering 1? Vi har förberedande kurser som gör dig behörig. I denna video går vi igenom hur du söker till en av våra förberedande kurser i programmering 1 När vi har många sökande och ska rangordna alla behöriga via ”urval”, har vi valt att göra det med hjälp av ett urvalsprov. Ett sådant prov kan ge extra poäng i rangordningen, och det ökar din chans att bli antagen. I denna video går vi igenom urvalsprov och hur detta går till Antagningsprocessen kan pågå ändå fram till utbildningsstart. Du har lämnat in din ansökan, men vad händer nu? I denna video går vi igenom vad som sker efter det att du lämnat in din ansökan, vad som är viktigt att hålla koll på, och när du kan förvänta dig att få ett antagningsbesked från oss. Vår strävan är att göra skillnad och förändra livet för människor. Vi vill skapa en bättre framtid och konkurrenskraft för människor och företag genom utbildning, utveckling och upplevelser i en trygg, familjär och inspirerande miljö. Om behandling av personuppgifter (GDPR) Om hantering av cookies Policy för SoMe Redegatan 1B\n",
      "426 77 Göteborg hej@nbi-handelsakademin.se\n",
      "Växel: 031 – 704 67 00 Logga in \n",
      "\t\t\t\t© 2020 NBI Handelsakademin\t\t\t  Denna webbplats använder cookies. NBI/Handelsakademin använder cookies för att ge dig anpassat innehåll och en bättre upplevelse på vår webbplats. Genom att klicka på ikonen ”tillåt alla” bekräftar du att du samtycker till vår användning av cookies. Läs mer om vår hantering av cookies här.\n"
     ]
    }
   ],
   "source": [
    "\n",
    "\n",
    "data_path = Path(\"../data\")\n",
    "\n",
    "# Försök att öppna filen med 'utf-8' kodning\n",
    "try:\n",
    "    with open(data_path / \"programmering-med-ai-kompetens.txt\", \"r\", encoding='utf-8') as file:\n",
    "        raw_text = file.read()\n",
    "    print(raw_text)\n",
    "except UnicodeDecodeError:\n",
    "    print(\"Utf-8 decoding failed. Trying with 'latin-1' encoding.\")\n",
    "    # Om 'utf-8' misslyckas, försök med en annan kodning som 'latin-1'\n",
    "    with open(data_path / \"programmering-med-ai-kompetens.txt\", \"r\", encoding='latin-1') as file:\n",
    "        raw_text = file.read()\n",
    "    print(raw_text)\n"
   ]
  },
  {
   "cell_type": "code",
   "execution_count": 21,
   "metadata": {},
   "outputs": [
    {
     "data": {
      "text/plain": [
       "'Texten beskriver en utbildning inom objektorienterad programmering med AI-kompetens som riktar sig mot att utbilda mjukvaruutvecklare inom områden som C#, Python och AI-applikationer. Utbildningen fokuserar på att ge kunskaper och färdigheter inom programutveckling och artificiell intelligens, med betoning på objektorienterad programmering. Den beskriver även arbetsuppgifter och kompetenser för mjukvaruutvecklare samt betonar vikten av att vara en nyckelspelare i den snabbt växande teknologisektorn. Utbildningen inkluderar praktik och samarbete med företag för att ge studerande en direkt väg in i arbetslivet.'"
      ]
     },
     "execution_count": 21,
     "metadata": {},
     "output_type": "execute_result"
    }
   ],
   "source": [
    "# TLDR\n",
    "summary_opa = chat(\n",
    "f\"\"\"kan du sammanfatta den här texten i max ett stycke. Här är texten\n",
    "\n",
    "'''\n",
    "{raw_text}\n",
    "'''\n",
    "\n",
    "\"\"\")\n",
    "\n",
    "summary_opa"
   ]
  },
  {
   "cell_type": "code",
   "execution_count": 22,
   "metadata": {},
   "outputs": [
    {
     "data": {
      "text/plain": [
       "'Texten handlar om en utbildning för att bli mjukvaruutvecklare med AI-kompetens, där man får lära sig objektorienterad programmering och tillämpa dessa färdigheter inom området för artificiell intelligens. Utbildningen fokuserar på att skapa innovativa lösningar och ger även insikter i andra relevanta programmeringsspråk. Det betonas att behovet av välutbildade mjukvaruutvecklare med AI-kompetens är stort i den snabbt växande teknologisektorn. Det nämns även möjligheter till praktik och samarbete med företag för att underlätta övergången till arbetslivet.'"
      ]
     },
     "execution_count": 22,
     "metadata": {},
     "output_type": "execute_result"
    }
   ],
   "source": [
    "summary_opa_gpt35_turbo = chat(\n",
    "f\"\"\"kan du sammanfatta den här texten i max ett stycke. Här är texten\n",
    "\n",
    "'''\n",
    "{raw_text}\n",
    "'''\n",
    "\n",
    "\"\"\", model=\"gpt-3.5-turbo\")\n",
    "\n",
    "summary_opa_gpt35_turbo"
   ]
  },
  {
   "cell_type": "code",
   "execution_count": 23,
   "metadata": {},
   "outputs": [
    {
     "data": {
      "text/plain": [
       "'Texten beskriver AI och utbildning inom mjukvaruutveckling med fokus på artificiell intelligens. Den betonar vikten av objektorienterad programmering och hur det kan tillämpas inom AI-sektorn. Utbildningen syftar till att utbilda mjukvaruutvecklare med AI-kompetens för att möta det ökande behovet inom teknologisektorn. Några viktiga delar är:\\n- Behovet av specialiserade utvecklare inom AI\\n- Rollen som mjukvaruutvecklare med AI-kompetens\\n- Utbildningens fokus på objektorienterad programmering och C#\\n- Arbetsuppgifter och färdigheter för en mjukvaruutvecklare\\n- Samarbete med företag och praktikmöjligheter\\n- Krav och process för att söka utbildningen'"
      ]
     },
     "execution_count": 23,
     "metadata": {},
     "output_type": "execute_result"
    }
   ],
   "source": [
    "summary_opa = chat(\n",
    "f\"\"\"kan du sammanfatta den här texten i max ett stycke. Här är texten\n",
    "\n",
    "'''\n",
    "{raw_text}\n",
    "'''\n",
    "\n",
    "Formatera svaret likt följande exempel\n",
    "'''\n",
    "Texten beskriver AI och utbildning ...\n",
    "\n",
    "Några viktiga delar är:\n",
    "- punkt 1\n",
    "- punkt 2\n",
    "- ...\n",
    "\n",
    "'''\n",
    "\n",
    "\n",
    "\"\"\", model=\"gpt-3.5-turbo\")\n",
    "\n",
    "summary_opa"
   ]
  },
  {
   "cell_type": "code",
   "execution_count": 24,
   "metadata": {},
   "outputs": [
    {
     "name": "stdout",
     "output_type": "stream",
     "text": [
      "Texten beskriver AI och utbildning inom mjukvaruutveckling med fokus på artificiell intelligens. Den betonar vikten av objektorienterad programmering och hur det kan tillämpas inom AI-sektorn. Utbildningen syftar till att utbilda mjukvaruutvecklare med AI-kompetens för att möta det ökande behovet inom teknologisektorn. Några viktiga delar är:\n",
      "- Behovet av specialiserade utvecklare inom AI\n",
      "- Rollen som mjukvaruutvecklare med AI-kompetens\n",
      "- Utbildningens fokus på objektorienterad programmering och C#\n",
      "- Arbetsuppgifter och färdigheter för en mjukvaruutvecklare\n",
      "- Samarbete med företag och praktikmöjligheter\n",
      "- Krav och process för att söka utbildningen\n"
     ]
    }
   ],
   "source": [
    "# max tokens reached - try adding higher max tokens\n",
    "print(summary_opa)"
   ]
  },
  {
   "cell_type": "code",
   "execution_count": 25,
   "metadata": {},
   "outputs": [],
   "source": [
    "learn_opa = chat(\n",
    "f\"\"\"'''{raw_text}'''\n",
    "\n",
    "\n",
    "\n",
    "Vad får man lära sig i den här utbildningen? Beskriv kort i punktformat.\n",
    "\"\"\"\n",
    ")"
   ]
  },
  {
   "cell_type": "code",
   "execution_count": null,
   "metadata": {},
   "outputs": [
    {
     "name": "stdout",
     "output_type": "stream",
     "text": [
      "I den här utbildningen får man lära sig:\n",
      "\n",
      "- Objektorienterad programmering med huvudinriktning på C#\n",
      "- Tillämpa färdigheter inom området för artificiell intelligens (AI)\n",
      "- Skapa och skriva programkod för att instruera datorer att utföra specifika uppgifter\n",
      "- Arbeta med olika programmeringsspråk såsom Python, C++, JavaScript med fokus på AI-applikationer\n",
      "- Genomföra tester för att säkerställa att koden fungerar korrekt och uppfyller kraven\n",
      "- Skriva och underhålla dokumentation för kod och system för att underlätta för andra att förstå och underhålla koden\n",
      "- Samarbeta med andra utvecklare, designers och intressenter för att säkerställa att projektet når sina mål\n",
      "- Strukturera kod som \"objekt\" för att skapa innovativa lösningar\n",
      "- Använda agil projektmetodik med inriktning på Scrum och Kanban\n",
      "- Skapa webbbackend-system med återanvändbara programkomponenter och ORM för databaskommunikation\n",
      "- Utveckla webbfrontend med HTML, CSS och JavaScript\n",
      "- Anv\n"
     ]
    }
   ],
   "source": [
    "print(learn_opa)"
   ]
  },
  {
   "cell_type": "code",
   "execution_count": 27,
   "metadata": {},
   "outputs": [
    {
     "name": "stdout",
     "output_type": "stream",
     "text": [
      "I den här utbildningen som mjukvaruutvecklare med AI-kompetens får man lära sig följande:\n",
      "1. Objektorienterad programmering med huvudinriktning på C# samt insikter i andra relevanta programmeringsspråk.\n",
      "2. Tillämpning av kunskaper inom objektorienterad programmering inom området för artificiell intelligens (AI).\n",
      "3. Skapande och skrivande av programkod för att instruera datorer och digitala enheter att utföra specifika uppgifter, samt testning och underhåll av kod och system.\n"
     ]
    }
   ],
   "source": [
    "learn_opa = chat(\n",
    "f\"\"\"'''{raw_text}'''\n",
    "\n",
    "\n",
    "\n",
    "Vad får man lära sig i den här utbildningen? Beskriv kort i punktformat. \n",
    "Ge mig 3 punkter på de viktigaste delarna\n",
    "\"\"\"\n",
    ")\n",
    "\n",
    "print(learn_opa)"
   ]
  },
  {
   "cell_type": "code",
   "execution_count": 28,
   "metadata": {},
   "outputs": [],
   "source": [
    "contacts_opa = chat(\n",
    "f\"\"\"'''{raw_text}'''\n",
    "\n",
    "\n",
    "Vilka ska man kontakta om man är intresserad av utbildningen?\n",
    "\n",
    "Formatera i en lista på kontakter\n",
    "\"\"\"\n",
    ")"
   ]
  },
  {
   "cell_type": "code",
   "execution_count": 29,
   "metadata": {},
   "outputs": [
    {
     "name": "stdout",
     "output_type": "stream",
     "text": [
      "Om du är intresserad av utbildningen inom mjukvaruutveckling med AI-kompetens och vill kontakta någon för mer information, kan du nå följande kontaktpersoner:\n",
      "\n",
      "1. Magdalena Vidoevska\n",
      "   - E-post: magdalena.vidoevska@nbi-handelsakademin.se\n",
      "   - Telefon: +46 31-704 67 16\n",
      "\n",
      "2. Sandra Kellander\n",
      "   - E-post: sandra.kellander@nbi-handelsakademin.se\n",
      "   - Telefon: +46 31-704 67 19\n",
      "\n",
      "3. Magdalena Fagerlind\n",
      "   - E-post: magdalena.fagerlind@nbi-handelsakademin.se\n",
      "\n",
      "Du kan även skicka en generell förfrågan till:\n",
      "- E-post: hej@nbi-handelsakademin.se\n",
      "\n",
      "Hoppas detta hjälper dig att komma i kontakt med rätt person för att få mer information om utbildningen!\n"
     ]
    }
   ],
   "source": [
    "print(contacts_opa)"
   ]
  },
  {
   "cell_type": "code",
   "execution_count": 30,
   "metadata": {},
   "outputs": [
    {
     "data": {
      "text/plain": [
       "'| Kontakt                  | Mail                                | Telefon        |\\n|--------------------------|-------------------------------------|----------------|\\n| Magdalena Vidoevska      | magdalena.vidoevska@nbi-handelsakademin.se | +46 31-704 67 16 |\\n| Sandra Kellander         | sandra.kellander@nbi-handelsakademin.se  | +46 31-704 67 19 |\\n| Magdalena Fagerlind      | magdalena.fagerlind@nbi-handelsakademin.se |                |\\n| Allmän kontakt           | hej@nbi-handelsakademin.se              |                |'"
      ]
     },
     "execution_count": 30,
     "metadata": {},
     "output_type": "execute_result"
    }
   ],
   "source": [
    "contacts_markdown = chat(\n",
    "f\"\"\"'''{raw_text}'''\n",
    "\n",
    "\n",
    "Vilka ska man kontakta om man är intresserad av utbildningen?\n",
    "\n",
    "Formatera i en markdowntabell med kolumnerna: Kontakt, Mail, Telefon\n",
    "\"\"\"\n",
    ")\n",
    "contacts_markdown"
   ]
  },
  {
   "cell_type": "code",
   "execution_count": 31,
   "metadata": {},
   "outputs": [
    {
     "name": "stdout",
     "output_type": "stream",
     "text": [
      "| Kontakt                  | Mail                                | Telefon        |\n",
      "|--------------------------|-------------------------------------|----------------|\n",
      "| Magdalena Vidoevska      | magdalena.vidoevska@nbi-handelsakademin.se | +46 31-704 67 16 |\n",
      "| Sandra Kellander         | sandra.kellander@nbi-handelsakademin.se  | +46 31-704 67 19 |\n",
      "| Magdalena Fagerlind      | magdalena.fagerlind@nbi-handelsakademin.se |                |\n",
      "| Allmän kontakt           | hej@nbi-handelsakademin.se              |                |\n"
     ]
    }
   ],
   "source": [
    "# we see that some postprocessing would be good\n",
    "print(contacts_markdown)"
   ]
  },
  {
   "cell_type": "markdown",
   "metadata": {},
   "source": [
    "Här är kontaktinformationen för att få mer information om utbildningen:\n",
    "\n",
    "| Kontakt                     | Mail                                 | Telefon        |\n",
    "|-----------------------------|--------------------------------------|----------------|\n",
    "| Magdalena Vidoevska         | magdalena.vidoevska@nbi-handelsakademin.se | +46 31-704 67 16 |\n",
    "| Sandra Kellander            | sandra.kellander@nbi-handelsakademin.se  | +46 31-704 67 19 |\n",
    "| Magdalena Fagerlind         | magdalena.fagerlind@nbi-handelsakademin.se | +46 31-704 67 16 |\n",
    "| Allmän kontakt              | hej@nbi-handelsakademin.se                | -              |"
   ]
  },
  {
   "cell_type": "code",
   "execution_count": 32,
   "metadata": {},
   "outputs": [
    {
     "data": {
      "text/plain": [
       "\"```python\\nimport pandas as pd\\n\\ndata = {\\n    'Kontakt': ['Magdalena Vidoevska', 'Sandra Kellander', 'Magdalena Fagerlind'],\\n    'Mail': ['magdalena.vidoevska@nbi-handelsakademin.se', 'sandra.kellander@nbi-handelsakademin.se', 'magdalena.fagerlind@nbi-handelsakademin.se'],\\n    'Telefon': ['+46 31-704 67 16', '+46 31-704 67 19', '']\\n}\\n\\ndf = pd.DataFrame(data)\\nprint(df)\\n``` \\n\\nDetta skapar en DataFrame med kontaktinformation för de personer du ska kontakta om du är intresserad av utbildningen:\\n\\n| Kontakt              | Mail                                       | Telefon         |\\n|----------------------|--------------------------------------------|-----------------|\\n| Magdalena Vidoevska  | magdalena.vidoevska@nbi-handelsakademin.se | +46 31-704 67 16|\\n| Sandra Kellander     | sandra.kellander@nbi-handelsakademin.se    | +46 31-704 67 19|\\n| Magdalena Fagerlind  | magdalena.fagerlind@nbi-handelsakademin.se |                 |\\n```\""
      ]
     },
     "execution_count": 32,
     "metadata": {},
     "output_type": "execute_result"
    }
   ],
   "source": [
    "contacts_df = chat(\n",
    "f\"\"\"'''{raw_text}'''\n",
    "\n",
    "\n",
    "Vilka ska man kontakta om man är intresserad av utbildningen?\n",
    "\n",
    "Formatera i en dataframe med kolumnerna: Kontakt, Mail, Telefon\n",
    "\"\"\"\n",
    ")\n",
    "\n",
    "contacts_df"
   ]
  },
  {
   "cell_type": "code",
   "execution_count": 33,
   "metadata": {},
   "outputs": [
    {
     "name": "stdout",
     "output_type": "stream",
     "text": [
      "```python\n",
      "import pandas as pd\n",
      "\n",
      "data = {\n",
      "    'Kontakt': ['Magdalena Vidoevska', 'Sandra Kellander', 'Magdalena Fagerlind'],\n",
      "    'Mail': ['magdalena.vidoevska@nbi-handelsakademin.se', 'sandra.kellander@nbi-handelsakademin.se', 'magdalena.fagerlind@nbi-handelsakademin.se'],\n",
      "    'Telefon': ['+46 31-704 67 16', '+46 31-704 67 19', '']\n",
      "}\n",
      "\n",
      "df = pd.DataFrame(data)\n",
      "print(df)\n",
      "``` \n",
      "\n",
      "Detta skapar en DataFrame med kontaktinformation för de personer du ska kontakta om du är intresserad av utbildningen:\n",
      "\n",
      "| Kontakt              | Mail                                       | Telefon         |\n",
      "|----------------------|--------------------------------------------|-----------------|\n",
      "| Magdalena Vidoevska  | magdalena.vidoevska@nbi-handelsakademin.se | +46 31-704 67 16|\n",
      "| Sandra Kellander     | sandra.kellander@nbi-handelsakademin.se    | +46 31-704 67 19|\n",
      "| Magdalena Fagerlind  | magdalena.fagerlind@nbi-handelsakademin.se |                 |\n",
      "```\n"
     ]
    }
   ],
   "source": [
    "print(contacts_df)"
   ]
  },
  {
   "cell_type": "code",
   "execution_count": 34,
   "metadata": {},
   "outputs": [
    {
     "name": "stdout",
     "output_type": "stream",
     "text": [
      "Sure! Here is an example of Python code that creates a pandas DataFrame from a markdown table:\n",
      "\n",
      "```python\n",
      "import pandas as pd\n",
      "\n",
      "# Define the markdown table as a string\n",
      "markdown_table = \"\"\"\n",
      "| Name  | Age | City    |\n",
      "|-------|-----|---------|\n",
      "| Alice | 25  | New York|\n",
      "| Bob   | 30  | Chicago |\n",
      "| Carol | 35  | Boston  |\n",
      "\"\"\"\n",
      "\n",
      "# Split the markdown table into rows\n",
      "rows = markdown_table.strip().split('\\n')\n",
      "\n",
      "# Extract column names from the first row\n",
      "columns = [col.strip() for col in rows[0].split('|')[1:-1]]\n",
      "\n",
      "# Extract data rows\n",
      "data = [row.strip().split('|')[1:-1] for row in rows[2:]]\n",
      "\n",
      "# Create a pandas DataFrame\n",
      "df = pd.DataFrame(data, columns=columns)\n",
      "\n",
      "print(df)\n",
      "```\n",
      "\n",
      "This code will output the following DataFrame:\n",
      "```\n",
      "    Name Age     City\n",
      "0  Alice  25  New York\n",
      "1    Bob  30  Chicago\n",
      "2  Carol  35   Boston\n",
      "```\n"
     ]
    }
   ],
   "source": [
    "print(\n",
    "    chat(\n",
    "        \"show me an example of python code to create a pandas dataframe from a markdown table\",\n",
    "        provider=\"openai\",\n",
    "        model=\"gpt-3.5-turbo\",\n",
    "    )\n",
    ")"
   ]
  },
  {
   "cell_type": "code",
   "execution_count": 35,
   "metadata": {},
   "outputs": [
    {
     "ename": "AttributeError",
     "evalue": "Can only use .str accessor with string values!",
     "output_type": "error",
     "traceback": [
      "\u001b[1;31m---------------------------------------------------------------------------\u001b[0m",
      "\u001b[1;31mAttributeError\u001b[0m                            Traceback (most recent call last)",
      "Cell \u001b[1;32mIn[35], line 3\u001b[0m\n\u001b[0;32m      1\u001b[0m \u001b[38;5;28;01mimport\u001b[39;00m \u001b[38;5;21;01mpandas\u001b[39;00m \u001b[38;5;28;01mas\u001b[39;00m \u001b[38;5;21;01mpd\u001b[39;00m \n\u001b[0;32m      2\u001b[0m \u001b[38;5;28;01mfrom\u001b[39;00m \u001b[38;5;21;01mio\u001b[39;00m \u001b[38;5;28;01mimport\u001b[39;00m StringIO\n\u001b[1;32m----> 3\u001b[0m df \u001b[38;5;241m=\u001b[39m \u001b[43mpd\u001b[49m\u001b[38;5;241;43m.\u001b[39;49m\u001b[43mread_csv\u001b[49m\u001b[43m(\u001b[49m\u001b[43mStringIO\u001b[49m\u001b[43m(\u001b[49m\u001b[43mcontacts_markdown\u001b[49m\u001b[43m)\u001b[49m\u001b[43m,\u001b[49m\u001b[43m \u001b[49m\u001b[43msep\u001b[49m\u001b[38;5;241;43m=\u001b[39;49m\u001b[38;5;124;43m\"\u001b[39;49m\u001b[38;5;124;43m|\u001b[39;49m\u001b[38;5;124;43m\"\u001b[39;49m\u001b[43m)\u001b[49m\u001b[38;5;241;43m.\u001b[39;49m\u001b[43miloc\u001b[49m\u001b[43m[\u001b[49m\u001b[38;5;241;43m1\u001b[39;49m\u001b[43m:\u001b[49m\u001b[38;5;241;43m-\u001b[39;49m\u001b[38;5;241;43m1\u001b[39;49m\u001b[43m]\u001b[49m\u001b[38;5;241;43m.\u001b[39;49m\u001b[43mapply\u001b[49m\u001b[43m(\u001b[49m\u001b[38;5;28;43;01mlambda\u001b[39;49;00m\u001b[43m \u001b[49m\u001b[43mx\u001b[49m\u001b[43m:\u001b[49m\u001b[43m \u001b[49m\u001b[43mx\u001b[49m\u001b[38;5;241;43m.\u001b[39;49m\u001b[43mstr\u001b[49m\u001b[38;5;241;43m.\u001b[39;49m\u001b[43mstrip\u001b[49m\u001b[43m(\u001b[49m\u001b[43m)\u001b[49m\u001b[43m)\u001b[49m\n\u001b[0;32m      4\u001b[0m df\n",
      "File \u001b[1;32mc:\\Users\\joelh\\AppData\\Local\\Programs\\Python\\Python311\\Lib\\site-packages\\pandas\\core\\frame.py:10347\u001b[0m, in \u001b[0;36mDataFrame.apply\u001b[1;34m(self, func, axis, raw, result_type, args, by_row, engine, engine_kwargs, **kwargs)\u001b[0m\n\u001b[0;32m  10333\u001b[0m \u001b[38;5;28;01mfrom\u001b[39;00m \u001b[38;5;21;01mpandas\u001b[39;00m\u001b[38;5;21;01m.\u001b[39;00m\u001b[38;5;21;01mcore\u001b[39;00m\u001b[38;5;21;01m.\u001b[39;00m\u001b[38;5;21;01mapply\u001b[39;00m \u001b[38;5;28;01mimport\u001b[39;00m frame_apply\n\u001b[0;32m  10335\u001b[0m op \u001b[38;5;241m=\u001b[39m frame_apply(\n\u001b[0;32m  10336\u001b[0m     \u001b[38;5;28mself\u001b[39m,\n\u001b[0;32m  10337\u001b[0m     func\u001b[38;5;241m=\u001b[39mfunc,\n\u001b[1;32m   (...)\u001b[0m\n\u001b[0;32m  10345\u001b[0m     kwargs\u001b[38;5;241m=\u001b[39mkwargs,\n\u001b[0;32m  10346\u001b[0m )\n\u001b[1;32m> 10347\u001b[0m \u001b[38;5;28;01mreturn\u001b[39;00m \u001b[43mop\u001b[49m\u001b[38;5;241;43m.\u001b[39;49m\u001b[43mapply\u001b[49m\u001b[43m(\u001b[49m\u001b[43m)\u001b[49m\u001b[38;5;241m.\u001b[39m__finalize__(\u001b[38;5;28mself\u001b[39m, method\u001b[38;5;241m=\u001b[39m\u001b[38;5;124m\"\u001b[39m\u001b[38;5;124mapply\u001b[39m\u001b[38;5;124m\"\u001b[39m)\n",
      "File \u001b[1;32mc:\\Users\\joelh\\AppData\\Local\\Programs\\Python\\Python311\\Lib\\site-packages\\pandas\\core\\apply.py:916\u001b[0m, in \u001b[0;36mFrameApply.apply\u001b[1;34m(self)\u001b[0m\n\u001b[0;32m    913\u001b[0m \u001b[38;5;28;01melif\u001b[39;00m \u001b[38;5;28mself\u001b[39m\u001b[38;5;241m.\u001b[39mraw:\n\u001b[0;32m    914\u001b[0m     \u001b[38;5;28;01mreturn\u001b[39;00m \u001b[38;5;28mself\u001b[39m\u001b[38;5;241m.\u001b[39mapply_raw(engine\u001b[38;5;241m=\u001b[39m\u001b[38;5;28mself\u001b[39m\u001b[38;5;241m.\u001b[39mengine, engine_kwargs\u001b[38;5;241m=\u001b[39m\u001b[38;5;28mself\u001b[39m\u001b[38;5;241m.\u001b[39mengine_kwargs)\n\u001b[1;32m--> 916\u001b[0m \u001b[38;5;28;01mreturn\u001b[39;00m \u001b[38;5;28;43mself\u001b[39;49m\u001b[38;5;241;43m.\u001b[39;49m\u001b[43mapply_standard\u001b[49m\u001b[43m(\u001b[49m\u001b[43m)\u001b[49m\n",
      "File \u001b[1;32mc:\\Users\\joelh\\AppData\\Local\\Programs\\Python\\Python311\\Lib\\site-packages\\pandas\\core\\apply.py:1063\u001b[0m, in \u001b[0;36mFrameApply.apply_standard\u001b[1;34m(self)\u001b[0m\n\u001b[0;32m   1061\u001b[0m \u001b[38;5;28;01mdef\u001b[39;00m \u001b[38;5;21mapply_standard\u001b[39m(\u001b[38;5;28mself\u001b[39m):\n\u001b[0;32m   1062\u001b[0m     \u001b[38;5;28;01mif\u001b[39;00m \u001b[38;5;28mself\u001b[39m\u001b[38;5;241m.\u001b[39mengine \u001b[38;5;241m==\u001b[39m \u001b[38;5;124m\"\u001b[39m\u001b[38;5;124mpython\u001b[39m\u001b[38;5;124m\"\u001b[39m:\n\u001b[1;32m-> 1063\u001b[0m         results, res_index \u001b[38;5;241m=\u001b[39m \u001b[38;5;28;43mself\u001b[39;49m\u001b[38;5;241;43m.\u001b[39;49m\u001b[43mapply_series_generator\u001b[49m\u001b[43m(\u001b[49m\u001b[43m)\u001b[49m\n\u001b[0;32m   1064\u001b[0m     \u001b[38;5;28;01melse\u001b[39;00m:\n\u001b[0;32m   1065\u001b[0m         results, res_index \u001b[38;5;241m=\u001b[39m \u001b[38;5;28mself\u001b[39m\u001b[38;5;241m.\u001b[39mapply_series_numba()\n",
      "File \u001b[1;32mc:\\Users\\joelh\\AppData\\Local\\Programs\\Python\\Python311\\Lib\\site-packages\\pandas\\core\\apply.py:1081\u001b[0m, in \u001b[0;36mFrameApply.apply_series_generator\u001b[1;34m(self)\u001b[0m\n\u001b[0;32m   1078\u001b[0m \u001b[38;5;28;01mwith\u001b[39;00m option_context(\u001b[38;5;124m\"\u001b[39m\u001b[38;5;124mmode.chained_assignment\u001b[39m\u001b[38;5;124m\"\u001b[39m, \u001b[38;5;28;01mNone\u001b[39;00m):\n\u001b[0;32m   1079\u001b[0m     \u001b[38;5;28;01mfor\u001b[39;00m i, v \u001b[38;5;129;01min\u001b[39;00m \u001b[38;5;28menumerate\u001b[39m(series_gen):\n\u001b[0;32m   1080\u001b[0m         \u001b[38;5;66;03m# ignore SettingWithCopy here in case the user mutates\u001b[39;00m\n\u001b[1;32m-> 1081\u001b[0m         results[i] \u001b[38;5;241m=\u001b[39m \u001b[38;5;28;43mself\u001b[39;49m\u001b[38;5;241;43m.\u001b[39;49m\u001b[43mfunc\u001b[49m\u001b[43m(\u001b[49m\u001b[43mv\u001b[49m\u001b[43m,\u001b[49m\u001b[43m \u001b[49m\u001b[38;5;241;43m*\u001b[39;49m\u001b[38;5;28;43mself\u001b[39;49m\u001b[38;5;241;43m.\u001b[39;49m\u001b[43margs\u001b[49m\u001b[43m,\u001b[49m\u001b[43m \u001b[49m\u001b[38;5;241;43m*\u001b[39;49m\u001b[38;5;241;43m*\u001b[39;49m\u001b[38;5;28;43mself\u001b[39;49m\u001b[38;5;241;43m.\u001b[39;49m\u001b[43mkwargs\u001b[49m\u001b[43m)\u001b[49m\n\u001b[0;32m   1082\u001b[0m         \u001b[38;5;28;01mif\u001b[39;00m \u001b[38;5;28misinstance\u001b[39m(results[i], ABCSeries):\n\u001b[0;32m   1083\u001b[0m             \u001b[38;5;66;03m# If we have a view on v, we need to make a copy because\u001b[39;00m\n\u001b[0;32m   1084\u001b[0m             \u001b[38;5;66;03m#  series_generator will swap out the underlying data\u001b[39;00m\n\u001b[0;32m   1085\u001b[0m             results[i] \u001b[38;5;241m=\u001b[39m results[i]\u001b[38;5;241m.\u001b[39mcopy(deep\u001b[38;5;241m=\u001b[39m\u001b[38;5;28;01mFalse\u001b[39;00m)\n",
      "Cell \u001b[1;32mIn[35], line 3\u001b[0m, in \u001b[0;36m<lambda>\u001b[1;34m(x)\u001b[0m\n\u001b[0;32m      1\u001b[0m \u001b[38;5;28;01mimport\u001b[39;00m \u001b[38;5;21;01mpandas\u001b[39;00m \u001b[38;5;28;01mas\u001b[39;00m \u001b[38;5;21;01mpd\u001b[39;00m \n\u001b[0;32m      2\u001b[0m \u001b[38;5;28;01mfrom\u001b[39;00m \u001b[38;5;21;01mio\u001b[39;00m \u001b[38;5;28;01mimport\u001b[39;00m StringIO\n\u001b[1;32m----> 3\u001b[0m df \u001b[38;5;241m=\u001b[39m pd\u001b[38;5;241m.\u001b[39mread_csv(StringIO(contacts_markdown), sep\u001b[38;5;241m=\u001b[39m\u001b[38;5;124m\"\u001b[39m\u001b[38;5;124m|\u001b[39m\u001b[38;5;124m\"\u001b[39m)\u001b[38;5;241m.\u001b[39miloc[\u001b[38;5;241m1\u001b[39m:\u001b[38;5;241m-\u001b[39m\u001b[38;5;241m1\u001b[39m]\u001b[38;5;241m.\u001b[39mapply(\u001b[38;5;28;01mlambda\u001b[39;00m x: \u001b[43mx\u001b[49m\u001b[38;5;241;43m.\u001b[39;49m\u001b[43mstr\u001b[49m\u001b[38;5;241m.\u001b[39mstrip())\n\u001b[0;32m      4\u001b[0m df\n",
      "File \u001b[1;32mc:\\Users\\joelh\\AppData\\Local\\Programs\\Python\\Python311\\Lib\\site-packages\\pandas\\core\\generic.py:6293\u001b[0m, in \u001b[0;36mNDFrame.__getattr__\u001b[1;34m(self, name)\u001b[0m\n\u001b[0;32m   6286\u001b[0m \u001b[38;5;28;01mif\u001b[39;00m (\n\u001b[0;32m   6287\u001b[0m     name \u001b[38;5;129;01mnot\u001b[39;00m \u001b[38;5;129;01min\u001b[39;00m \u001b[38;5;28mself\u001b[39m\u001b[38;5;241m.\u001b[39m_internal_names_set\n\u001b[0;32m   6288\u001b[0m     \u001b[38;5;129;01mand\u001b[39;00m name \u001b[38;5;129;01mnot\u001b[39;00m \u001b[38;5;129;01min\u001b[39;00m \u001b[38;5;28mself\u001b[39m\u001b[38;5;241m.\u001b[39m_metadata\n\u001b[0;32m   6289\u001b[0m     \u001b[38;5;129;01mand\u001b[39;00m name \u001b[38;5;129;01mnot\u001b[39;00m \u001b[38;5;129;01min\u001b[39;00m \u001b[38;5;28mself\u001b[39m\u001b[38;5;241m.\u001b[39m_accessors\n\u001b[0;32m   6290\u001b[0m     \u001b[38;5;129;01mand\u001b[39;00m \u001b[38;5;28mself\u001b[39m\u001b[38;5;241m.\u001b[39m_info_axis\u001b[38;5;241m.\u001b[39m_can_hold_identifiers_and_holds_name(name)\n\u001b[0;32m   6291\u001b[0m ):\n\u001b[0;32m   6292\u001b[0m     \u001b[38;5;28;01mreturn\u001b[39;00m \u001b[38;5;28mself\u001b[39m[name]\n\u001b[1;32m-> 6293\u001b[0m \u001b[38;5;28;01mreturn\u001b[39;00m \u001b[38;5;28;43mobject\u001b[39;49m\u001b[38;5;241;43m.\u001b[39;49m\u001b[38;5;21;43m__getattribute__\u001b[39;49m\u001b[43m(\u001b[49m\u001b[38;5;28;43mself\u001b[39;49m\u001b[43m,\u001b[49m\u001b[43m \u001b[49m\u001b[43mname\u001b[49m\u001b[43m)\u001b[49m\n",
      "File \u001b[1;32mc:\\Users\\joelh\\AppData\\Local\\Programs\\Python\\Python311\\Lib\\site-packages\\pandas\\core\\accessor.py:224\u001b[0m, in \u001b[0;36mCachedAccessor.__get__\u001b[1;34m(self, obj, cls)\u001b[0m\n\u001b[0;32m    221\u001b[0m \u001b[38;5;28;01mif\u001b[39;00m obj \u001b[38;5;129;01mis\u001b[39;00m \u001b[38;5;28;01mNone\u001b[39;00m:\n\u001b[0;32m    222\u001b[0m     \u001b[38;5;66;03m# we're accessing the attribute of the class, i.e., Dataset.geo\u001b[39;00m\n\u001b[0;32m    223\u001b[0m     \u001b[38;5;28;01mreturn\u001b[39;00m \u001b[38;5;28mself\u001b[39m\u001b[38;5;241m.\u001b[39m_accessor\n\u001b[1;32m--> 224\u001b[0m accessor_obj \u001b[38;5;241m=\u001b[39m \u001b[38;5;28;43mself\u001b[39;49m\u001b[38;5;241;43m.\u001b[39;49m\u001b[43m_accessor\u001b[49m\u001b[43m(\u001b[49m\u001b[43mobj\u001b[49m\u001b[43m)\u001b[49m\n\u001b[0;32m    225\u001b[0m \u001b[38;5;66;03m# Replace the property with the accessor object. Inspired by:\u001b[39;00m\n\u001b[0;32m    226\u001b[0m \u001b[38;5;66;03m# https://www.pydanny.com/cached-property.html\u001b[39;00m\n\u001b[0;32m    227\u001b[0m \u001b[38;5;66;03m# We need to use object.__setattr__ because we overwrite __setattr__ on\u001b[39;00m\n\u001b[0;32m    228\u001b[0m \u001b[38;5;66;03m# NDFrame\u001b[39;00m\n\u001b[0;32m    229\u001b[0m \u001b[38;5;28mobject\u001b[39m\u001b[38;5;241m.\u001b[39m\u001b[38;5;21m__setattr__\u001b[39m(obj, \u001b[38;5;28mself\u001b[39m\u001b[38;5;241m.\u001b[39m_name, accessor_obj)\n",
      "File \u001b[1;32mc:\\Users\\joelh\\AppData\\Local\\Programs\\Python\\Python311\\Lib\\site-packages\\pandas\\core\\strings\\accessor.py:191\u001b[0m, in \u001b[0;36mStringMethods.__init__\u001b[1;34m(self, data)\u001b[0m\n\u001b[0;32m    188\u001b[0m \u001b[38;5;28;01mdef\u001b[39;00m \u001b[38;5;21m__init__\u001b[39m(\u001b[38;5;28mself\u001b[39m, data) \u001b[38;5;241m-\u001b[39m\u001b[38;5;241m>\u001b[39m \u001b[38;5;28;01mNone\u001b[39;00m:\n\u001b[0;32m    189\u001b[0m     \u001b[38;5;28;01mfrom\u001b[39;00m \u001b[38;5;21;01mpandas\u001b[39;00m\u001b[38;5;21;01m.\u001b[39;00m\u001b[38;5;21;01mcore\u001b[39;00m\u001b[38;5;21;01m.\u001b[39;00m\u001b[38;5;21;01marrays\u001b[39;00m\u001b[38;5;21;01m.\u001b[39;00m\u001b[38;5;21;01mstring_\u001b[39;00m \u001b[38;5;28;01mimport\u001b[39;00m StringDtype\n\u001b[1;32m--> 191\u001b[0m     \u001b[38;5;28mself\u001b[39m\u001b[38;5;241m.\u001b[39m_inferred_dtype \u001b[38;5;241m=\u001b[39m \u001b[38;5;28;43mself\u001b[39;49m\u001b[38;5;241;43m.\u001b[39;49m\u001b[43m_validate\u001b[49m\u001b[43m(\u001b[49m\u001b[43mdata\u001b[49m\u001b[43m)\u001b[49m\n\u001b[0;32m    192\u001b[0m     \u001b[38;5;28mself\u001b[39m\u001b[38;5;241m.\u001b[39m_is_categorical \u001b[38;5;241m=\u001b[39m \u001b[38;5;28misinstance\u001b[39m(data\u001b[38;5;241m.\u001b[39mdtype, CategoricalDtype)\n\u001b[0;32m    193\u001b[0m     \u001b[38;5;28mself\u001b[39m\u001b[38;5;241m.\u001b[39m_is_string \u001b[38;5;241m=\u001b[39m \u001b[38;5;28misinstance\u001b[39m(data\u001b[38;5;241m.\u001b[39mdtype, StringDtype)\n",
      "File \u001b[1;32mc:\\Users\\joelh\\AppData\\Local\\Programs\\Python\\Python311\\Lib\\site-packages\\pandas\\core\\strings\\accessor.py:245\u001b[0m, in \u001b[0;36mStringMethods._validate\u001b[1;34m(data)\u001b[0m\n\u001b[0;32m    242\u001b[0m inferred_dtype \u001b[38;5;241m=\u001b[39m lib\u001b[38;5;241m.\u001b[39minfer_dtype(values, skipna\u001b[38;5;241m=\u001b[39m\u001b[38;5;28;01mTrue\u001b[39;00m)\n\u001b[0;32m    244\u001b[0m \u001b[38;5;28;01mif\u001b[39;00m inferred_dtype \u001b[38;5;129;01mnot\u001b[39;00m \u001b[38;5;129;01min\u001b[39;00m allowed_types:\n\u001b[1;32m--> 245\u001b[0m     \u001b[38;5;28;01mraise\u001b[39;00m \u001b[38;5;167;01mAttributeError\u001b[39;00m(\u001b[38;5;124m\"\u001b[39m\u001b[38;5;124mCan only use .str accessor with string values!\u001b[39m\u001b[38;5;124m\"\u001b[39m)\n\u001b[0;32m    246\u001b[0m \u001b[38;5;28;01mreturn\u001b[39;00m inferred_dtype\n",
      "\u001b[1;31mAttributeError\u001b[0m: Can only use .str accessor with string values!"
     ]
    }
   ],
   "source": [
    "import pandas as pd \n",
    "from io import StringIO\n",
    "df = pd.read_csv(StringIO(contacts_markdown), sep=\"|\").iloc[1:-1].apply(lambda x: x.str.strip())\n",
    "df"
   ]
  },
  {
   "cell_type": "code",
   "execution_count": 2,
   "metadata": {},
   "outputs": [
    {
     "ename": "ModuleNotFoundError",
     "evalue": "No module named 'utils'",
     "output_type": "error",
     "traceback": [
      "\u001b[1;31m---------------------------------------------------------------------------\u001b[0m",
      "\u001b[1;31mModuleNotFoundError\u001b[0m                       Traceback (most recent call last)",
      "Cell \u001b[1;32mIn[2], line 1\u001b[0m\n\u001b[1;32m----> 1\u001b[0m \u001b[38;5;28;01mfrom\u001b[39;00m \u001b[38;5;21;01mutils\u001b[39;00m\u001b[38;5;21;01m.\u001b[39;00m\u001b[38;5;21;01mscraper\u001b[39;00m \u001b[38;5;28;01mimport\u001b[39;00m FaqScraper\n\u001b[0;32m      3\u001b[0m faq \u001b[38;5;241m=\u001b[39m FaqScraper()\n\u001b[0;32m      4\u001b[0m faq\n",
      "\u001b[1;31mModuleNotFoundError\u001b[0m: No module named 'utils'"
     ]
    }
   ],
   "source": [
    "from utils.scraper import FaqScraper\n",
    "\n",
    "faq = FaqScraper()\n",
    "faq"
   ]
  },
  {
   "cell_type": "code",
   "execution_count": 17,
   "metadata": {},
   "outputs": [
    {
     "ename": "NameError",
     "evalue": "name 'faq' is not defined",
     "output_type": "error",
     "traceback": [
      "\u001b[1;31m---------------------------------------------------------------------------\u001b[0m",
      "\u001b[1;31mNameError\u001b[0m                                 Traceback (most recent call last)",
      "Cell \u001b[1;32mIn[17], line 1\u001b[0m\n\u001b[1;32m----> 1\u001b[0m faq_list \u001b[38;5;241m=\u001b[39m \u001b[43mfaq\u001b[49m\u001b[38;5;241m.\u001b[39mfaq\n\u001b[0;32m      2\u001b[0m faq_list[:\u001b[38;5;241m10\u001b[39m]\n",
      "\u001b[1;31mNameError\u001b[0m: name 'faq' is not defined"
     ]
    }
   ],
   "source": [
    "faq_list = faq.faq\n",
    "faq_list[:10]"
   ]
  },
  {
   "cell_type": "code",
   "execution_count": null,
   "metadata": {},
   "outputs": [
    {
     "ename": "NameError",
     "evalue": "name 'faq_list' is not defined",
     "output_type": "error",
     "traceback": [
      "\u001b[1;31m---------------------------------------------------------------------------\u001b[0m",
      "\u001b[1;31mNameError\u001b[0m                                 Traceback (most recent call last)",
      "Cell \u001b[1;32mIn[41], line 1\u001b[0m\n\u001b[1;32m----> 1\u001b[0m \u001b[38;5;28mprint\u001b[39m(\u001b[38;5;124m\"\u001b[39m\u001b[38;5;130;01m\\n\u001b[39;00m\u001b[38;5;130;01m\\n\u001b[39;00m\u001b[38;5;124m\"\u001b[39m\u001b[38;5;241m.\u001b[39mjoin(\u001b[43mfaq_list\u001b[49m))\n",
      "\u001b[1;31mNameError\u001b[0m: name 'faq_list' is not defined"
     ]
    }
   ],
   "source": [
    "print(\"\\n\\n\".join(faq_list))"
   ]
  },
  {
   "cell_type": "code",
   "execution_count": null,
   "metadata": {},
   "outputs": [
    {
     "ename": "NameError",
     "evalue": "name 'faq_list' is not defined",
     "output_type": "error",
     "traceback": [
      "\u001b[1;31m---------------------------------------------------------------------------\u001b[0m",
      "\u001b[1;31mNameError\u001b[0m                                 Traceback (most recent call last)",
      "Cell \u001b[1;32mIn[42], line 1\u001b[0m\n\u001b[1;32m----> 1\u001b[0m questions \u001b[38;5;241m=\u001b[39m [text \u001b[38;5;28;01mfor\u001b[39;00m text \u001b[38;5;129;01min\u001b[39;00m \u001b[43mfaq_list\u001b[49m \u001b[38;5;28;01mif\u001b[39;00m \u001b[38;5;124m\"\u001b[39m\u001b[38;5;124m?\u001b[39m\u001b[38;5;124m\"\u001b[39m \u001b[38;5;129;01min\u001b[39;00m text]\n\u001b[0;32m      2\u001b[0m questions[:\u001b[38;5;241m5\u001b[39m]\n",
      "\u001b[1;31mNameError\u001b[0m: name 'faq_list' is not defined"
     ]
    }
   ],
   "source": [
    "questions = [text for text in faq_list if \"?\" in text]\n",
    "questions[:5]"
   ]
  },
  {
   "cell_type": "code",
   "execution_count": null,
   "metadata": {},
   "outputs": [
    {
     "ename": "NameError",
     "evalue": "name 'questions' is not defined",
     "output_type": "error",
     "traceback": [
      "\u001b[1;31m---------------------------------------------------------------------------\u001b[0m",
      "\u001b[1;31mNameError\u001b[0m                                 Traceback (most recent call last)",
      "Cell \u001b[1;32mIn[43], line 4\u001b[0m\n\u001b[0;32m      1\u001b[0m chat(\n\u001b[0;32m      2\u001b[0m     \u001b[38;5;124mf\u001b[39m\u001b[38;5;124m\"\"\"\u001b[39m\u001b[38;5;124mFrån denna lista med frågor \u001b[39m\n\u001b[0;32m      3\u001b[0m \u001b[38;5;124m    \u001b[39m\u001b[38;5;124m'\u001b[39m\u001b[38;5;124m'\u001b[39m\u001b[38;5;124m'\u001b[39m\n\u001b[1;32m----> 4\u001b[0m \u001b[38;5;124m    \u001b[39m\u001b[38;5;132;01m{\u001b[39;00m\u001b[43mquestions\u001b[49m\u001b[38;5;132;01m}\u001b[39;00m\n\u001b[0;32m      5\u001b[0m \u001b[38;5;124m    \u001b[39m\u001b[38;5;124m'\u001b[39m\u001b[38;5;124m'\u001b[39m\u001b[38;5;124m'\u001b[39m\n\u001b[0;32m      6\u001b[0m \n\u001b[0;32m      7\u001b[0m \u001b[38;5;124m    Ta fram frågan som är mest lik denna fråga:\u001b[39m\n\u001b[0;32m      8\u001b[0m \n\u001b[0;32m      9\u001b[0m \u001b[38;5;124m    \u001b[39m\u001b[38;5;124m'\u001b[39m\u001b[38;5;124m'\u001b[39m\u001b[38;5;124m'\u001b[39m\n\u001b[0;32m     10\u001b[0m \u001b[38;5;124m    Hur mycket kostar det att plugga era utbildningar?\u001b[39m\n\u001b[0;32m     11\u001b[0m \u001b[38;5;124m    \u001b[39m\u001b[38;5;124m'\u001b[39m\u001b[38;5;124m'\u001b[39m\u001b[38;5;124m'\u001b[39m\n\u001b[0;32m     12\u001b[0m \n\u001b[0;32m     13\u001b[0m \n\u001b[0;32m     14\u001b[0m \u001b[38;5;124m    \u001b[39m\u001b[38;5;124m\"\"\"\u001b[39m,\n\u001b[0;32m     15\u001b[0m     provider\u001b[38;5;241m=\u001b[39m\u001b[38;5;124m\"\u001b[39m\u001b[38;5;124mopenai\u001b[39m\u001b[38;5;124m\"\u001b[39m,\n\u001b[0;32m     16\u001b[0m     model\u001b[38;5;241m=\u001b[39m\u001b[38;5;124m\"\u001b[39m\u001b[38;5;124mgpt-3.5-turbo\u001b[39m\u001b[38;5;124m\"\u001b[39m,\n\u001b[0;32m     17\u001b[0m )\n",
      "\u001b[1;31mNameError\u001b[0m: name 'questions' is not defined"
     ]
    }
   ],
   "source": [
    "chat(\n",
    "    f\"\"\"Från denna lista med frågor \n",
    "    '''\n",
    "    {questions}\n",
    "    '''\n",
    "\n",
    "    Ta fram frågan som är mest lik denna fråga:\n",
    "\n",
    "    '''\n",
    "    Hur mycket kostar det att plugga era utbildningar?\n",
    "    '''\n",
    "\n",
    "\n",
    "    \"\"\",\n",
    "    provider=\"openai\",\n",
    "    model=\"gpt-3.5-turbo\",\n",
    ")"
   ]
  }
 ],
 "metadata": {
  "kernelspec": {
   "display_name": "Python 3",
   "language": "python",
   "name": "python3"
  },
  "language_info": {
   "codemirror_mode": {
    "name": "ipython",
    "version": 3
   },
   "file_extension": ".py",
   "mimetype": "text/x-python",
   "name": "python",
   "nbconvert_exporter": "python",
   "pygments_lexer": "ipython3",
   "version": "3.11.7"
  }
 },
 "nbformat": 4,
 "nbformat_minor": 2
}
