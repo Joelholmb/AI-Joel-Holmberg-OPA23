{
 "cells": [
  {
   "cell_type": "code",
   "execution_count": 2,
   "metadata": {},
   "outputs": [
    {
     "name": "stdout",
     "output_type": "stream",
     "text": [
      "Movie Selected: Shrek (2001), Index: 3194\n",
      "Searching for recommendations...\n",
      "Princess Mononoke (Mononoke-hime) (1997)\n",
      "Million Dollar Hotel, The (2001)\n",
      "Head Over Heels (2001)\n",
      "Ideal Husband, An (1999)\n",
      "America's Sweethearts (2001)\n",
      "Loverboy (1989)\n",
      "Others, The (2001)\n",
      "Torn Curtain (1966)\n",
      "Blue Crush (2002)\n",
      "Written on the Wind (1956)\n"
     ]
    }
   ],
   "source": [
    "import pandas as pd\n",
    "from scipy.sparse import csr_matrix\n",
    "from sklearn.neighbors import NearestNeighbors\n",
    "from fuzzywuzzy import process\n",
    "\n",
    "# Läser in filer\n",
    "movies_path = \"../data/practise_movies.csv\"\n",
    "ratings_path = \"../data/practise_ratings.csv\"\n",
    "\n",
    "df_movies = pd.read_csv(movies_path, usecols=[\"movieId\", \"title\"])\n",
    "df_ratings = pd.read_csv(ratings_path, usecols=[\"userId\", \"movieId\", \"rating\"])\n",
    "\n",
    "# Skapa en pivot-tabell för movieId och userId\n",
    "movies_users = df_ratings.pivot(index=\"movieId\", columns=\"userId\", values=\"rating\").fillna(0)\n",
    "\n",
    "# Konvertera till sparse matrix\n",
    "mat_movies_users = csr_matrix(movies_users.values)\n",
    "\n",
    "# Skapa KNN-modellen\n",
    "model_knn = NearestNeighbors(metric=\"cosine\", algorithm=\"brute\", n_neighbors=20)\n",
    "model_knn.fit(mat_movies_users)\n",
    "\n",
    "\n",
    "def recommender(movie_name, data, model, n_recommendations=10):\n",
    "    # Hitta index för den angivna filmen med fuzzy sökning\n",
    "    query_index = process.extractOne(movie_name, df_movies['title'], score_cutoff=70)\n",
    "    if query_index is None:\n",
    "        print(f\"Movie '{movie_name}' not found. Try another name.\")\n",
    "        return\n",
    "    \n",
    "    movie_idx = query_index[2]  # Indexet för filmen\n",
    "    \n",
    "    print(f\"Movie Selected: {df_movies['title'][movie_idx]}, Index: {movie_idx}\")\n",
    "    print(\"Searching for recommendations...\")\n",
    "    \n",
    "    # Hämta rekommendationer\n",
    "    distances, indices = model.kneighbors(data[movie_idx], n_neighbors=n_recommendations+1)\n",
    "    \n",
    "    # Skriv ut rekommendationerna\n",
    "    for i in indices.flatten():\n",
    "        if i == movie_idx:\n",
    "            continue\n",
    "        print(df_movies['title'][i])\n",
    "\n",
    "# Exempel på att använda funktionen\n",
    "recommender(\"shrek\", mat_movies_users, model_knn, 10)\n",
    "\n"
   ]
  },
  {
   "cell_type": "markdown",
   "metadata": {},
   "source": [
    "\n",
    "Med den här versionen av funktionen undviker man problem med indexering, förbättrar sökningen genom att inkludera en score_cutoff i process.extractOne för att säkerställa bättre matchningar, och korrekt filtrerar bort den valda filmen från resultatlistan av rekommendationer."
   ]
  },
  {
   "cell_type": "markdown",
   "metadata": {},
   "source": []
  }
 ],
 "metadata": {
  "kernelspec": {
   "display_name": "venv",
   "language": "python",
   "name": "python3"
  },
  "language_info": {
   "codemirror_mode": {
    "name": "ipython",
    "version": 3
   },
   "file_extension": ".py",
   "mimetype": "text/x-python",
   "name": "python",
   "nbconvert_exporter": "python",
   "pygments_lexer": "ipython3",
   "version": "3.11.7"
  }
 },
 "nbformat": 4,
 "nbformat_minor": 2
}
